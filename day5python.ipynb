{
 "cells": [
  {
   "cell_type": "code",
   "execution_count": 1,
   "metadata": {},
   "outputs": [
    {
     "name": "stdout",
     "output_type": "stream",
     "text": [
      "Three month Online Fellowship Program\n"
     ]
    }
   ],
   "source": [
    "#print strings\n",
    "print(\"Three month Online Fellowship Program\")\n",
    "\n"
   ]
  },
  {
   "cell_type": "code",
   "execution_count": 2,
   "metadata": {},
   "outputs": [
    {
     "name": "stdout",
     "output_type": "stream",
     "text": [
      "x is 1.\n"
     ]
    }
   ],
   "source": [
    "#indenation\n",
    "x = 1\n",
    "if x == 1:\n",
    "    # indented four spaces\n",
    "    print(\"x is 1.\")\n",
    "    "
   ]
  },
  {
   "cell_type": "code",
   "execution_count": 5,
   "metadata": {},
   "outputs": [
    {
     "name": "stdout",
     "output_type": "stream",
     "text": [
      "7\n",
      "7.0\n",
      "7.0\n"
     ]
    }
   ],
   "source": [
    "#different variable with different condition.\n",
    "var_int = 7\n",
    "print(var_int)\n",
    "#INT type\n",
    "my_float = 7.0     \n",
    "#FLOAT type\n",
    "print(my_float)\n",
    "my_float = float(7) \n",
    "#FLOat type\n",
    "print(my_float)\n"
   ]
  },
  {
   "cell_type": "code",
   "execution_count": 8,
   "metadata": {},
   "outputs": [
    {
     "name": "stdout",
     "output_type": "stream",
     "text": [
      "string is : string\n",
      "Float: 7.000000\n",
      "Integer: 7\n"
     ]
    }
   ],
   "source": [
    "# %s for string , %f for float and %d for integer datatype\n",
    "mystring = \"string\"\n",
    "myint = 7\n",
    "myfloat = 7.0\n",
    "if mystring == \"string\" :\n",
    "    print(\"string is : %s\" %mystring)\n",
    "if myfloat == 7.0:\n",
    "    print(\"Float: %f\" % myfloat)\n",
    "if myint == 7:\n",
    "    print(\"Integer: %d\" % myint)"
   ]
  },
  {
   "cell_type": "code",
   "execution_count": 9,
   "metadata": {},
   "outputs": [
    {
     "name": "stdout",
     "output_type": "stream",
     "text": [
      "3 4\n"
     ]
    }
   ],
   "source": [
    "a, b = 3, 4\n",
    "print(a,b)\n",
    "# assigining variable"
   ]
  },
  {
   "cell_type": "code",
   "execution_count": 10,
   "metadata": {},
   "outputs": [
    {
     "name": "stdout",
     "output_type": "stream",
     "text": [
      "3\n"
     ]
    }
   ],
   "source": [
    "one = 1\n",
    "two = 2\n",
    "three = one + two\n",
    "print(three)\n",
    "#sum of data types"
   ]
  },
  {
   "cell_type": "code",
   "execution_count": 11,
   "metadata": {},
   "outputs": [
    {
     "name": "stdout",
     "output_type": "stream",
     "text": [
      "3\n"
     ]
    }
   ],
   "source": [
    "mylist = [1,2,3]\n",
    "print(mylist[2])\n"
   ]
  },
  {
   "cell_type": "code",
   "execution_count": 16,
   "metadata": {},
   "outputs": [
    {
     "name": "stdout",
     "output_type": "stream",
     "text": [
      "['cricket', 'football', 'volleyball', 'table tennis']\n",
      "4\n",
      "table tennis\n",
      "['football', 'volleyball']\n",
      "cricket\n",
      "['cricket', 'football']\n"
     ]
    }
   ],
   "source": [
    "#LISTS\n",
    "thislist = [\"cricket\", \"football\", \"volleyball\", \"table tennis\" ]\n",
    "print(thislist)\n",
    "print(len(thislist)) #length of the list\n",
    "print(thislist[3]) #in this condition it will count from 0,so 3- \n",
    "print(thislist[1:3]) #range of list\n",
    "print(thislist[-4]) # here it will count from reverse order \n",
    "print(thislist[:2])# it will dispalys the items from index 0  to 2\n",
    "                   "
   ]
  },
  {
   "cell_type": "code",
   "execution_count": 17,
   "metadata": {},
   "outputs": [
    {
     "name": "stdout",
     "output_type": "stream",
     "text": [
      "[1, 3, 5, 7, 2, 4, 6, 8]\n"
     ]
    }
   ],
   "source": [
    "#operator with lists\n",
    "even_numbers = [2,4,6,8]\n",
    "odd_numbers = [1,3,5,7]\n",
    "all_numbers = odd_numbers + even_numbers\n",
    "print(all_numbers)"
   ]
  },
  {
   "cell_type": "code",
   "execution_count": 18,
   "metadata": {},
   "outputs": [
    {
     "name": "stdout",
     "output_type": "stream",
     "text": [
      "49\n",
      "8\n"
     ]
    }
   ],
   "source": [
    "squared = 7 ** 2\n",
    "cubed = 2 ** 3\n",
    "print(squared)\n",
    "print(cubed)\n",
    "#find square and cube using operator"
   ]
  },
  {
   "cell_type": "code",
   "execution_count": 19,
   "metadata": {},
   "outputs": [
    {
     "name": "stdout",
     "output_type": "stream",
     "text": [
      "hello world\n",
      "hellohellohellohellohellohellohellohellohellohello\n"
     ]
    }
   ],
   "source": [
    "#addind operator using string\n",
    "helloworld = \"hello\" + \" \" + \"world\"\n",
    "print(helloworld)\n",
    "\n",
    "lotsofhellos = \"hello\" * 10\n",
    "print(lotsofhellos)\n",
    "#repating many times using  multiplication operator"
   ]
  },
  {
   "cell_type": "code",
   "execution_count": 23,
   "metadata": {},
   "outputs": [
    {
     "name": "stdout",
     "output_type": "stream",
     "text": [
      "x_list contains 10 objects\n",
      "y_list contains 10 objects\n",
      "big_list contains 20 objects\n",
      "Almost there...\n",
      "Great!\n"
     ]
    }
   ],
   "source": [
    "x = object()\n",
    "y = object()\n",
    "\n",
    "\n",
    "x_list = [x] *10\n",
    "y_list = [y] *10\n",
    "big_list = x_list + y_list\n",
    "\n",
    "print(\"x_list contains %d objects\" % len(x_list))\n",
    "print(\"y_list contains %d objects\" % len(y_list))\n",
    "print(\"big_list contains %d objects\" % len(big_list))\n",
    "\n",
    "\n",
    "if x_list.count(x) == 10 and y_list.count(y) == 10:\n",
    "    print(\"Almost there...\")\n",
    "if big_list.count(x) == 10 and big_list.count(y) == 10:\n",
    "    print(\"Great!\")"
   ]
  },
  {
   "cell_type": "code",
   "execution_count": 33,
   "metadata": {},
   "outputs": [
    {
     "name": "stdout",
     "output_type": "stream",
     "text": [
      "!lo le\n",
      "HELLO WORLD!\n",
      "hello world!\n",
      "l \n",
      "lo w\n",
      "lo w\n"
     ]
    }
   ],
   "source": [
    "astring = \"Hello world!\"\n",
    "print(astring[::-2])#reverse a string from -2\n",
    "print(astring.upper())#uppercase \n",
    "print(astring.lower())#lowercase\n",
    "print(astring[3:7:2])#3rd character from the end\n",
    "print(astring[3:7])#characters of string from 3 to 7 skip one character\n",
    "print(astring[3:7:1])#general form [start:stop:step]\n"
   ]
  },
  {
   "cell_type": "code",
   "execution_count": 2,
   "metadata": {},
   "outputs": [
    {
     "name": "stdout",
     "output_type": "stream",
     "text": [
      "True\n",
      "False\n"
     ]
    }
   ],
   "source": [
    "astring = \"Hello world!\"\n",
    "print(astring.startswith(\"Hello\"))#string checks whether string starts with hello and diplay true \n",
    "print(astring.endswith(\"string\"))# string check whether it ends with string and diplay false"
   ]
  },
  {
   "cell_type": "code",
   "execution_count": 12,
   "metadata": {},
   "outputs": [
    {
     "name": "stdout",
     "output_type": "stream",
     "text": [
      "Length of s = 17\n",
      "The first occurrence of the letter a = 8\n",
      "a occurs 1 times\n",
      "The first five characters are 'Strin'\n",
      "The next five characters are 'ngs '\n",
      "The eleven character is 'e'\n",
      "The characters with odd index are 'tig r ih'\n",
      "The last five characters are 'right'\n",
      "String in uppercase: STRINGS ARE RIGHT\n",
      "String in lowercase: strings are right\n",
      "String starts with 'Str'. Good!\n",
      "Split the words of the string: ['Strings', 'are', 'right']\n"
     ]
    }
   ],
   "source": [
    "s = \"Strings are right\"\n",
    "# Length should be 20\n",
    "print(\"Length of s = %d\" % len(s))\n",
    "\n",
    "# First occurrence of \"s\" should be at index 8\n",
    "print(\"The first occurrence of the letter a = %d\" % s.index(\"a\"))\n",
    "\n",
    "# Number of a's should be 2\n",
    "print(\"a occurs %d times\" % s.count(\"a\"))\n",
    "\n",
    "# Slicing the string into bits\n",
    "print(\"The first five characters are '%s'\" % s[:5]) # Start to 5\n",
    "print(\"The next five characters are '%s'\" % s[4:8]) # 4 to 8\n",
    "print(\"The eleven character is '%s'\" % s[10]) # Just number 10\n",
    "print(\"The characters with odd index are '%s'\" %s[1::2]) #(0-based indexing)\n",
    "print(\"The last five characters are '%s'\" % s[-5:]) # 6th-from-last to end\n",
    "\n",
    "\n",
    "# Convert everything to uppercase\n",
    "print(\"String in uppercase: %s\" % s.upper())\n",
    "\n",
    "# Convert everything to lowercase\n",
    "print(\"String in lowercase: %s\" % s.lower())\n",
    "\n",
    "# Check how a string starts\n",
    "if s.startswith(\"Str\"):\n",
    "    print(\"String starts with 'Str'. Good!\")\n",
    "\n",
    "# Check how a string ends\n",
    "if s.endswith(\"ome!\"):\n",
    "    print(\"String ends with 'ome!'. Good!\")\n",
    "\n",
    "# Split the string into three separate strings,\n",
    "# each containing only a word\n",
    "print(\"Split the words of the string: %s\" % s.split(\" \"))\n"
   ]
  },
  {
   "cell_type": "code",
   "execution_count": 16,
   "metadata": {},
   "outputs": [
    {
     "name": "stdout",
     "output_type": "stream",
     "text": [
      "True\n",
      "False\n",
      "False\n"
     ]
    }
   ],
   "source": [
    "#conditions \n",
    "x = 3\n",
    "print(x == 3) # displays true\n",
    "print(x == 2) #displays false\n",
    "print(x < 3) # displays true"
   ]
  },
  {
   "cell_type": "code",
   "execution_count": 23,
   "metadata": {},
   "outputs": [
    {
     "name": "stdout",
     "output_type": "stream",
     "text": [
      "1\n",
      "2\n",
      "3\n",
      "4\n",
      "5\n",
      "6\n"
     ]
    }
   ],
   "source": [
    "number = 16\n",
    "second_number = 0\n",
    "first_array = [1,2,3]\n",
    "second_array = [1,2]\n",
    "\n",
    "if number > 15:\n",
    "    print(\"1\")#since number is less than 16 so print 1\n",
    "\n",
    "if first_array:\n",
    "    print(\"2\")#2 in first_array so print 2\n",
    "\n",
    "if len(second_array) == 2:\n",
    "    print(\"3\")#3 as there is two in the second_array list\n",
    "\n",
    "if len(first_array) + len(second_array) == 5:\n",
    "    print(\"4\")#prints 5 as sum of length of first_array and second_array is 5\n",
    "if first_array and first_array[0] == 1:\n",
    "    print(\"5\")#prints 5 as index[0] of first and second array is 1\n",
    "    \n",
    "if not second_number:#else case\n",
    "    print(\"6\")    "
   ]
  },
  {
   "cell_type": "code",
   "execution_count": null,
   "metadata": {},
   "outputs": [],
   "source": []
  }
 ],
 "metadata": {
  "kernelspec": {
   "display_name": "Python 3",
   "language": "python",
   "name": "python3"
  },
  "language_info": {
   "codemirror_mode": {
    "name": "ipython",
    "version": 3
   },
   "file_extension": ".py",
   "mimetype": "text/x-python",
   "name": "python",
   "nbconvert_exporter": "python",
   "pygments_lexer": "ipython3",
   "version": "3.7.3"
  }
 },
 "nbformat": 4,
 "nbformat_minor": 2
}
